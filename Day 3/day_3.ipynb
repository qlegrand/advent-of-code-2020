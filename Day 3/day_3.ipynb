{
 "cells": [
  {
   "cell_type": "code",
   "execution_count": 1,
   "metadata": {},
   "outputs": [],
   "source": [
    "import pandas as pd\n",
    "import numpy as np\n"
   ]
  },
  {
   "cell_type": "markdown",
   "metadata": {},
   "source": [
    "# Problem 1"
   ]
  },
  {
   "cell_type": "code",
   "execution_count": 2,
   "metadata": {},
   "outputs": [],
   "source": [
    "with open('input_day_3.txt','r') as f:\n",
    "    # Use list comprehension to read each character in file into 2D matrix, \n",
    "    # replacing tree by \"1\" and open field by \"0\"\n",
    "    res = np.array([[0 if j == '.' else 1 for j in i.strip('\\n')] for i in f.readlines()])"
   ]
  },
  {
   "cell_type": "code",
   "execution_count": 3,
   "metadata": {},
   "outputs": [
    {
     "name": "stdout",
     "output_type": "stream",
     "text": [
      "(323, 31)\n"
     ]
    }
   ],
   "source": [
    "print(res.shape) # check the shape of the matrix"
   ]
  },
  {
   "cell_type": "code",
   "execution_count": 4,
   "metadata": {},
   "outputs": [
    {
     "name": "stdout",
     "output_type": "stream",
     "text": [
      "(323, 323)\n"
     ]
    }
   ],
   "source": [
    "pb_1 = np.tile(res,40) # repeat columns pattern enough\n",
    "pb_1 = pb_1[:,::3] # select only colums that interest me\n",
    "pb_1 = pb_1[:,:323] # crop matrix for it to be squared\n",
    "print(pb_1.shape) # check that matrix is squared"
   ]
  },
  {
   "cell_type": "code",
   "execution_count": 5,
   "metadata": {},
   "outputs": [
    {
     "name": "stdout",
     "output_type": "stream",
     "text": [
      "265\n"
     ]
    }
   ],
   "source": [
    "print(np.trace(pb_1)) # Tada!"
   ]
  },
  {
   "cell_type": "markdown",
   "metadata": {},
   "source": [
    "# Problem 2\n",
    "\n",
    "While I could re-use the solution of problem 1 for problem 2, I would like to spice up the challenge by creating a function based on a different principle. That function relies on modulo operation to skim through the indexes of the original \"res\" matrix"
   ]
  },
  {
   "cell_type": "code",
   "execution_count": 10,
   "metadata": {},
   "outputs": [],
   "source": [
    "def assess_path(a,right=3,down=1):\n",
    "    hor = 0\n",
    "    trees = 0\n",
    "    for i in range(0,a.shape[0],down): # Go down\n",
    "        trees += a[i,hor] # Count tree\n",
    "        hor = (hor + right)%a.shape[1] # Go right in circular way\n",
    "    return trees        \n",
    "        "
   ]
  },
  {
   "cell_type": "code",
   "execution_count": 12,
   "metadata": {},
   "outputs": [
    {
     "name": "stdout",
     "output_type": "stream",
     "text": [
      "265\n"
     ]
    }
   ],
   "source": [
    "r3_d1 = assess_path(res)\n",
    "print(r3_d1) # Try if it works!"
   ]
  },
  {
   "cell_type": "code",
   "execution_count": 13,
   "metadata": {},
   "outputs": [],
   "source": [
    "r1_d1 = assess_path(res,1,1)\n",
    "r5_d1 = assess_path(res,5,1)\n",
    "r7_d1 = assess_path(res,7,1)\n",
    "r1_d2 = assess_path(res,1,2)"
   ]
  },
  {
   "cell_type": "code",
   "execution_count": 14,
   "metadata": {},
   "outputs": [
    {
     "name": "stdout",
     "output_type": "stream",
     "text": [
      "3154761400\n"
     ]
    }
   ],
   "source": [
    "print(r1_d1*r3_d1*r5_d1*r7_d1*r1_d2) # Tada!"
   ]
  }
 ],
 "metadata": {
  "kernelspec": {
   "display_name": "Python 3",
   "language": "python",
   "name": "python3"
  },
  "language_info": {
   "codemirror_mode": {
    "name": "ipython",
    "version": 3
   },
   "file_extension": ".py",
   "mimetype": "text/x-python",
   "name": "python",
   "nbconvert_exporter": "python",
   "pygments_lexer": "ipython3",
   "version": "3.7.4"
  }
 },
 "nbformat": 4,
 "nbformat_minor": 2
}
