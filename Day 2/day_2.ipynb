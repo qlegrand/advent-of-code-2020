{
 "cells": [
  {
   "cell_type": "code",
   "execution_count": 18,
   "metadata": {},
   "outputs": [],
   "source": [
    "import pandas as pd\n",
    "import numpy as np\n",
    "import re # \"re\" is a regex library of Python"
   ]
  },
  {
   "cell_type": "markdown",
   "metadata": {},
   "source": [
    "# Problem 1\n",
    "\n",
    "Problem 1 (and problem 2)'s main difficulty comes from parsing input file correctly and define the right condition function. For problem 1, the function checks if the number of requested chatacters in each password fit to the defined policy."
   ]
  },
  {
   "cell_type": "code",
   "execution_count": 84,
   "metadata": {},
   "outputs": [],
   "source": [
    "def count_char(x): # Function is applied line-wise\n",
    "    return len(re.findall(x['rule_2'], x['pw'])) # Cound all password characters corresponding to the ones in the rules\n",
    "\n",
    "def check_cond(x):\n",
    "    return int((x['rule_1_low'] <= x['count_char']) & (x['count_char'] <= x['rule_1_high'])) "
   ]
  },
  {
   "cell_type": "code",
   "execution_count": 87,
   "metadata": {},
   "outputs": [
    {
     "name": "stdout",
     "output_type": "stream",
     "text": [
      "556\n"
     ]
    }
   ],
   "source": [
    "df = pd.read_csv('input_day_2.txt', header = None, sep = ' ') # Load the data. Using\n",
    "df = df.rename(columns={0: 'rule_1',1: 'rule_2', 2: 'pw'}) # Cosmetic: rename the column loaded\n",
    "cols = ['rule_1', 'rule_2', 'pw']\n",
    "df[cols] = df[cols].apply(lambda x: x.str.strip(' :')) # Formatting data (remove space and colon)\n",
    "df['count_char'] = df.apply(lambda x: count_char(x), axis = 1) # Counting all the required characters\n",
    "df['rule_1_low'] = df['rule_1'].apply(lambda x: int(x.split('-')[0])) # Lower bound of the condition (pb 1) / First position (pb2)\n",
    "df['rule_1_high'] = df['rule_1'].apply(lambda x: int(x.split('-')[1])) # Higher bound [...]\n",
    "print(df.apply(lambda x: check_cond(x), axis = 1).sum()) # Check the condition, cast boolean to int, sum and display."
   ]
  },
  {
   "cell_type": "markdown",
   "metadata": {},
   "source": [
    "# Problem 2\n",
    "\n",
    "Condition to resolve problem to is a XOR on the existence of the required character on the required places. Overhead needed for this second part is minimal."
   ]
  },
  {
   "cell_type": "code",
   "execution_count": 77,
   "metadata": {},
   "outputs": [],
   "source": [
    "def check_pos(x):\n",
    "    # Simple XOR condition to check if the right letter (\"rule_2\") is at the right place (\"rule_1_low/high - 1\")\n",
    "    return (x['pw'][x['rule_1_low']-1] == x['rule_2']) ^ (x['pw'][x['rule_1_high']-1] == x['rule_2'])"
   ]
  },
  {
   "cell_type": "code",
   "execution_count": 82,
   "metadata": {},
   "outputs": [
    {
     "name": "stdout",
     "output_type": "stream",
     "text": [
      "605\n"
     ]
    }
   ],
   "source": [
    "print(df.apply(lambda x: int(check_pos(x)), axis = 1).sum()) # No need of parsing and formatting, on to the solution directly"
   ]
  }
 ],
 "metadata": {
  "kernelspec": {
   "display_name": "Python 3",
   "language": "python",
   "name": "python3"
  },
  "language_info": {
   "codemirror_mode": {
    "name": "ipython",
    "version": 3
   },
   "file_extension": ".py",
   "mimetype": "text/x-python",
   "name": "python",
   "nbconvert_exporter": "python",
   "pygments_lexer": "ipython3",
   "version": "3.7.4"
  }
 },
 "nbformat": 4,
 "nbformat_minor": 2
}
