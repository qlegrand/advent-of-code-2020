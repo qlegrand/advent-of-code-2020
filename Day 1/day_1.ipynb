{
 "cells": [
  {
   "cell_type": "code",
   "execution_count": 1,
   "metadata": {},
   "outputs": [],
   "source": [
    "import pandas as pd\n",
    "import numpy as np"
   ]
  },
  {
   "cell_type": "markdown",
   "metadata": {},
   "source": [
    "# Problem 1\n",
    "\n",
    "A no brainer here, I just figured that given that solution is unique, if I multiplied every entry by it's complement to 2020, the answer would appear twice in the resulting list"
   ]
  },
  {
   "cell_type": "code",
   "execution_count": 2,
   "metadata": {},
   "outputs": [
    {
     "name": "stdout",
     "output_type": "stream",
     "text": [
      "1003971\n"
     ]
    }
   ],
   "source": [
    "df = pd.read_csv('input_day_1.txt', header = None) #Load the data\n",
    "df = df.rename(columns={0: \"input\"}) # Cosmetic: rename the column loaded\n",
    "df[\"complement\"] = 2020 - df[\"input\"] # Create a new column to complement\n",
    "df[\"result\"] = df[\"input\"]*df[\"complement\"] # Another column with the all \"fake\" and \"real\" results\n",
    "df_grouped = df.groupby([\"result\"]).count() # Aggregating and counting on those results\n",
    "print(df_grouped[df_grouped[\"input\"]==2].index[0]) # Tada! Result is the only one that returns 2 in the aggregate"
   ]
  },
  {
   "cell_type": "markdown",
   "metadata": {},
   "source": [
    "# Problem 2\n",
    "\n",
    "A tiny bit harder. Of course one could brute-force the way into it, but complexity would be in O(n^3) (1.313.400 runs to be precise).\n",
    "\n",
    "However we can reduce complecity to O(n) (< 200 runs) by recognising that the principle applied for problem 1 can be applied multiple times here too.\n",
    "\n",
    "Each \"complement\" of the problem 1 becomes the baseline (similar to what the number \"2020\" was in problem 1) for problem 2. \n",
    "\n",
    "So by looping the solution applied in problem 1 and breaking when 1 match is found (all in all, complete run would give 3 identical matches), we get the answer."
   ]
  },
  {
   "cell_type": "code",
   "execution_count": 3,
   "metadata": {},
   "outputs": [
    {
     "name": "stdout",
     "output_type": "stream",
     "text": [
      "84035952\n"
     ]
    }
   ],
   "source": [
    "for i in df[\"complement\"]: # For each complement\n",
    "    df[\"partial_complement\"] = i - df[\"input\"] # They become baseline and allow to compute partial complement\n",
    "    df[\"partial_result\"] = df[\"input\"]*df[\"partial_complement\"] #Which allow to compute partial result that will be found twice there\n",
    "    df_partial_grouping = df.groupby([\"partial_result\"]).count()\n",
    "    df_partial_grouping[df_partial_grouping[\"input\"]==2]\n",
    "    if not df_partial_grouping[df_partial_grouping[\"input\"]==2].empty: # If there is a partial result\n",
    "        result = df_partial_grouping[df_partial_grouping[\"input\"]==2].index[0]*(2020-i) # Compute the complete result\n",
    "        print(result)\n",
    "        break # There is no use to continue when we have a result ;-) \n"
   ]
  },
  {
   "cell_type": "code",
   "execution_count": null,
   "metadata": {},
   "outputs": [],
   "source": []
  }
 ],
 "metadata": {
  "kernelspec": {
   "display_name": "Python 3",
   "language": "python",
   "name": "python3"
  },
  "language_info": {
   "codemirror_mode": {
    "name": "ipython",
    "version": 3
   },
   "file_extension": ".py",
   "mimetype": "text/x-python",
   "name": "python",
   "nbconvert_exporter": "python",
   "pygments_lexer": "ipython3",
   "version": "3.7.4"
  }
 },
 "nbformat": 4,
 "nbformat_minor": 2
}
